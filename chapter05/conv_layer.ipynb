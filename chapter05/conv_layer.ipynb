{
 "cells": [
  {
   "cell_type": "code",
   "execution_count": 12,
   "metadata": {},
   "outputs": [],
   "source": [
    "import torch\n",
    "import torch.nn as nn\n",
    "import torch.optim as optim"
   ]
  },
  {
   "cell_type": "code",
   "execution_count": 5,
   "metadata": {},
   "outputs": [],
   "source": [
    "def corr2d(X, K):\n",
    "    # K是卷积核 filter\n",
    "    h, w = K.shape\n",
    "    #卷积结果输出\n",
    "    Y = torch.zeros((X.shape[0] - h + 1, X.shape[1] - w + 1)) #公式 L - h + 1\n",
    "    for i in range(Y.shape[0]):\n",
    "        for j in range(Y.shape[1]):\n",
    "            # 对应位置相乘，与矩阵乘法区别，称：互相关运算\n",
    "            Y[i][j] = (X[i: i + h, j: j + w] * K).sum()\n",
    "    return Y"
   ]
  },
  {
   "cell_type": "code",
   "execution_count": 6,
   "metadata": {},
   "outputs": [
    {
     "name": "stdout",
     "output_type": "stream",
     "text": [
      "tensor([[19., 25.],\n",
      "        [37., 43.]])\n"
     ]
    }
   ],
   "source": [
    "X = torch.tensor([[0, 1, 2], [3, 4, 5], [6, 7, 8]])\n",
    "Y = torch.tensor([[0, 1], [2, 3]])\n",
    "print(corr2d(X, Y))"
   ]
  },
  {
   "cell_type": "code",
   "execution_count": 18,
   "metadata": {},
   "outputs": [],
   "source": [
    "class Conv(nn.Module):\n",
    "    # 实际上 filter的值都是随机的 所以传入的是filter的shape\n",
    "    def __init__(self, kernel_size):\n",
    "        super(Conv,self).__init__()\n",
    "        #学习一下内部设置参数的方法\n",
    "        self.weight = nn.Parameter(torch.randn(kernel_size))\n",
    "        self.bias = nn.Parameter(torch.randn(1))\n",
    "    \n",
    "    def forward(self, x):\n",
    "        return corr2d(x, self.weight) + self.bias\n",
    "    \n",
    "conv = Conv(kernel_size=(1, 2))"
   ]
  },
  {
   "cell_type": "code",
   "execution_count": 8,
   "metadata": {},
   "outputs": [
    {
     "name": "stdout",
     "output_type": "stream",
     "text": [
      "tensor([[1., 1., 0., 0., 0., 0., 1., 1.],\n",
      "        [1., 1., 0., 0., 0., 0., 1., 1.],\n",
      "        [1., 1., 0., 0., 0., 0., 1., 1.],\n",
      "        [1., 1., 0., 0., 0., 0., 1., 1.],\n",
      "        [1., 1., 0., 0., 0., 0., 1., 1.],\n",
      "        [1., 1., 0., 0., 0., 0., 1., 1.]])\n"
     ]
    }
   ],
   "source": [
    "# 然后模拟灰白图片\n",
    "X = torch.ones(6, 8)\n",
    "X[:, 2:6] = 0\n",
    "print(X)"
   ]
  },
  {
   "cell_type": "code",
   "execution_count": 10,
   "metadata": {},
   "outputs": [
    {
     "name": "stdout",
     "output_type": "stream",
     "text": [
      "tensor([[ 0.,  1.,  0.,  0.,  0., -1.,  0.],\n",
      "        [ 0.,  1.,  0.,  0.,  0., -1.,  0.],\n",
      "        [ 0.,  1.,  0.,  0.,  0., -1.,  0.],\n",
      "        [ 0.,  1.,  0.,  0.,  0., -1.,  0.],\n",
      "        [ 0.,  1.,  0.,  0.,  0., -1.,  0.],\n",
      "        [ 0.,  1.,  0.,  0.,  0., -1.,  0.]])\n"
     ]
    }
   ],
   "source": [
    "K = torch.tensor([[1, -1])\n",
    "\n",
    "Y = corr2d(X, K)\n",
    "print(Y)"
   ]
  },
  {
   "cell_type": "code",
   "execution_count": 21,
   "metadata": {},
   "outputs": [
    {
     "name": "stdout",
     "output_type": "stream",
     "text": [
      "step 5, loss 7.492\n",
      "step 10, loss 2.017\n",
      "step 15, loss 0.554\n",
      "step 20, loss 0.153\n"
     ]
    }
   ],
   "source": [
    "#test\n",
    "EPOCH = 20\n",
    "LR = 0.01\n",
    "\n",
    "for i in range(EPOCH):\n",
    "    out = conv(X)\n",
    "    \n",
    "    loss = ((out - Y) ** 2).sum()\n",
    "    loss.backward()\n",
    "    \n",
    "    #梯度下降\n",
    "    conv.weight.data -= LR * conv.weight.grad\n",
    "    conv.bias.data -= LR * conv.bias.grad\n",
    "    \n",
    "    #梯度清0\n",
    "    conv.weight.grad.fill_(0)\n",
    "    conv.bias.grad.fill_(0)\n",
    "    \n",
    "    if (i + 1) % 5 == 0:\n",
    "        print('step %d, loss %.3f' % (i + 1, loss.item()))"
   ]
  },
  {
   "cell_type": "markdown",
   "metadata": {},
   "source": [
    "最后的结果和之前设置的$K$比较接近"
   ]
  },
  {
   "cell_type": "code",
   "execution_count": 22,
   "metadata": {},
   "outputs": [
    {
     "name": "stdout",
     "output_type": "stream",
     "text": [
      "tensor([[ 0.8973, -0.9041]])\n",
      "tensor([0.0038])\n"
     ]
    }
   ],
   "source": [
    "print(conv.weight.data)\n",
    "print(conv.bias.data)"
   ]
  },
  {
   "cell_type": "markdown",
   "metadata": {},
   "source": [
    "### conv2与conv1不同的地方只是修改了一下train方法。"
   ]
  },
  {
   "cell_type": "code",
   "execution_count": 43,
   "metadata": {},
   "outputs": [],
   "source": [
    "class Conv2(nn.Module):\n",
    "    # 实际上 filter的值都是随机的 所以传入的是filter的shape\n",
    "    def __init__(self, kernel_size):\n",
    "        super(Conv2,self).__init__()\n",
    "        self.weight = nn.Parameter(torch.randn(kernel_size))\n",
    "        self.bias = nn.Parameter(torch.randn(1))\n",
    "    \n",
    "    def forward(self, x):\n",
    "        return corr2d(x, self.weight) + self.bias\n",
    "    \n",
    "conv2 = Conv2(kernel_size=(1, 2))"
   ]
  },
  {
   "cell_type": "code",
   "execution_count": 45,
   "metadata": {},
   "outputs": [
    {
     "name": "stdout",
     "output_type": "stream",
     "text": [
      "step 5, loss 0.121\n",
      "step 10, loss 0.097\n",
      "step 15, loss 0.080\n",
      "step 20, loss 0.066\n"
     ]
    }
   ],
   "source": [
    "loss_func = nn.MSELoss()\n",
    "optimizer = optim.SGD(conv2.parameters(), lr = 0.01)\n",
    "\n",
    "for epoch in range(EPOCH):\n",
    "    out = conv2(X)\n",
    "    \n",
    "    loss = loss_func(out, Y)\n",
    "    \n",
    "    optimizer.zero_grad()\n",
    "    loss.backward()\n",
    "    optimizer.step()\n",
    "    \n",
    "    if (epoch+1) % 5 == 0:\n",
    "        print('step %d, loss %.3f' % (epoch + 1, loss.item()))"
   ]
  },
  {
   "cell_type": "markdown",
   "metadata": {},
   "source": [
    "### 本节笔记\n",
    "1. filter与输入相乘的方式，是相同位置上的元素相乘再求和，需要和矩阵区分。此为核运算。\n",
    "2. 在class内部，定义卷积层的weight和bias，nn.parameter(shape)\n",
    "3. 输入数组经过filter后的结果成为**特征图**。某时刻输入区域被过滤的部分成为感受野。**我们可以通过更深的卷积神经网络使特征图中单个元素的感受野变得更加广阔，从而捕捉输入上更大尺寸的特征。因为是从左往右层层缩小的。**"
   ]
  },
  {
   "cell_type": "code",
   "execution_count": null,
   "metadata": {},
   "outputs": [],
   "source": []
  }
 ],
 "metadata": {
  "kernelspec": {
   "display_name": "Python 3",
   "language": "python",
   "name": "python3"
  },
  "language_info": {
   "codemirror_mode": {
    "name": "ipython",
    "version": 3
   },
   "file_extension": ".py",
   "mimetype": "text/x-python",
   "name": "python",
   "nbconvert_exporter": "python",
   "pygments_lexer": "ipython3",
   "version": "3.7.5"
  }
 },
 "nbformat": 4,
 "nbformat_minor": 2
}
