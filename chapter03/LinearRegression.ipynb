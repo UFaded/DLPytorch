{
 "cells": [
  {
   "cell_type": "code",
   "execution_count": 37,
   "metadata": {},
   "outputs": [],
   "source": [
    "import torch\n",
    "import torch.utils.data as Data\n",
    "import random\n",
    "import numpy as np\n",
    "import torch.nn as nn\n",
    "from torch.nn import init\n",
    "import torch.optim as optim"
   ]
  },
  {
   "cell_type": "code",
   "execution_count": 57,
   "metadata": {},
   "outputs": [
    {
     "name": "stdout",
     "output_type": "stream",
     "text": [
      "torch.Size([1000])\n"
     ]
    }
   ],
   "source": [
    "#模拟数据\n",
    "num_inputs = 2\n",
    "num_examples = 1000\n",
    "true_w = [2, -3.4]\n",
    "true_b = 4.2\n",
    "features = torch.tensor(np.random.normal(0, 1, (num_examples, num_inputs)), dtype=torch.float)\n",
    "labels = true_w[0] * features[:, 0] + true_w[1] * features[:, 1] + true_b\n",
    "labels += torch.tensor(np.random.normal(0, 0.01, size=labels.size()), dtype=torch.float)\n",
    "print(labels.shape)"
   ]
  },
  {
   "cell_type": "code",
   "execution_count": 58,
   "metadata": {},
   "outputs": [],
   "source": [
    "batch_size = 10\n",
    "\n",
    "torch_data = Data.TensorDataset(features, labels)\n",
    "\n",
    "dataset = Data.DataLoader(torch_data, batch_size, shuffle=True)\n"
   ]
  },
  {
   "cell_type": "code",
   "execution_count": 60,
   "metadata": {
    "scrolled": true
   },
   "outputs": [
    {
     "data": {
      "text/plain": [
       "Parameter containing:\n",
       "tensor([0.], requires_grad=True)"
      ]
     },
     "execution_count": 60,
     "metadata": {},
     "output_type": "execute_result"
    }
   ],
   "source": [
    "class LinearNet(nn.Module):\n",
    "    def __init__(self):\n",
    "        super(LinearNet, self).__init__()\n",
    "        self.l1 = nn.Linear(2,1)\n",
    "        \n",
    "    def forward(self, x):\n",
    "        out = self.l1(x)\n",
    "        return out\n",
    "    \n",
    "net = LinearNet()\n",
    "\n",
    "init.normal_(net.l1.weight, mean=0, std=0.01)\n",
    "init.constant_(net.l1.bias, val=0)"
   ]
  },
  {
   "cell_type": "code",
   "execution_count": 61,
   "metadata": {},
   "outputs": [
    {
     "name": "stdout",
     "output_type": "stream",
     "text": [
      "SGD (\n",
      "Parameter Group 0\n",
      "    dampening: 0\n",
      "    lr: 0.03\n",
      "    momentum: 0\n",
      "    nesterov: False\n",
      "    weight_decay: 0\n",
      ")\n"
     ]
    }
   ],
   "source": [
    "loss_func = nn.MSELoss()\n",
    "optimizer = optim.SGD(net.parameters(), lr=0.03)\n",
    "print(optimizer)"
   ]
  },
  {
   "cell_type": "code",
   "execution_count": 62,
   "metadata": {},
   "outputs": [
    {
     "name": "stdout",
     "output_type": "stream",
     "text": [
      "epoch: 0 |step: 0 |loss: tensor(56.5056)\n",
      "epoch: 0 |step: 20 |loss: tensor(2.4671)\n",
      "epoch: 0 |step: 40 |loss: tensor(0.2342)\n",
      "epoch: 0 |step: 60 |loss: tensor(0.0203)\n",
      "epoch: 0 |step: 80 |loss: tensor(0.0008)\n",
      "epoch 0, loss: 0.000089\n",
      "epoch: 1 |step: 0 |loss: tensor(0.0002)\n",
      "epoch: 1 |step: 20 |loss: tensor(0.0001)\n",
      "epoch: 1 |step: 40 |loss: tensor(8.1444e-05)\n",
      "epoch: 1 |step: 60 |loss: tensor(0.0001)\n",
      "epoch: 1 |step: 80 |loss: tensor(8.6230e-05)\n",
      "epoch 1, loss: 0.000076\n",
      "epoch: 2 |step: 0 |loss: tensor(0.0001)\n",
      "epoch: 2 |step: 20 |loss: tensor(0.0002)\n",
      "epoch: 2 |step: 40 |loss: tensor(0.0002)\n",
      "epoch: 2 |step: 60 |loss: tensor(0.0002)\n",
      "epoch: 2 |step: 80 |loss: tensor(6.2703e-05)\n",
      "epoch 2, loss: 0.000232\n"
     ]
    }
   ],
   "source": [
    "EPOCH = 3\n",
    "for epoch in range(EPOCH):\n",
    "    for step, (batch_x, batch_y) in enumerate(dataset):\n",
    "        output = net(batch_x)\n",
    "        loss = loss_func(output, batch_y.view(batch_y.size(0), 1))\n",
    "        optimizer.zero_grad()\n",
    "        loss.backward()\n",
    "        optimizer.step()\n",
    "        \n",
    "        if step % 20 == 0:\n",
    "            print('epoch:', epoch, '|step:', step, '|loss:', loss.data)\n",
    "    print('epoch %d, loss: %f' % (epoch, loss.item()))"
   ]
  },
  {
   "cell_type": "code",
   "execution_count": 63,
   "metadata": {},
   "outputs": [
    {
     "name": "stdout",
     "output_type": "stream",
     "text": [
      "[2, -3.4] Parameter containing:\n",
      "tensor([[ 2.0001, -3.3999]], requires_grad=True)\n",
      "4.2 Parameter containing:\n",
      "tensor([4.2000], requires_grad=True)\n"
     ]
    }
   ],
   "source": [
    "dense = net.l1\n",
    "print(true_w, dense.weight)\n",
    "print(true_b, dense.bias)"
   ]
  },
  {
   "cell_type": "code",
   "execution_count": null,
   "metadata": {},
   "outputs": [],
   "source": []
  }
 ],
 "metadata": {
  "kernelspec": {
   "display_name": "Python 3",
   "language": "python",
   "name": "python3"
  },
  "language_info": {
   "codemirror_mode": {
    "name": "ipython",
    "version": 3
   },
   "file_extension": ".py",
   "mimetype": "text/x-python",
   "name": "python",
   "nbconvert_exporter": "python",
   "pygments_lexer": "ipython3",
   "version": "3.7.5"
  }
 },
 "nbformat": 4,
 "nbformat_minor": 2
}
