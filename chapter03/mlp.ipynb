{
 "cells": [
  {
   "cell_type": "code",
   "execution_count": 1,
   "metadata": {},
   "outputs": [],
   "source": [
    "import torch\n",
    "import numpy as np\n",
    "import torch.utils.data as Data\n",
    "import torchvision.transforms as transforms\n",
    "from torch.autograd import Variable\n",
    "import torch.nn as nn\n",
    "import torchvision\n",
    "import torch.nn.functional as F\n",
    "from torch.nn import init\n",
    "import torch.optim as optim\n",
    "import sys\n",
    "sys.path.append(\"..\")\n",
    "import d2lzh_pytorch as d2l"
   ]
  },
  {
   "cell_type": "code",
   "execution_count": 2,
   "metadata": {},
   "outputs": [],
   "source": [
    "BATCH_SIZE = 20\n",
    "DOWNLOAD = True\n",
    "LR = 100\n",
    "EPOCH = 5\n",
    "\n",
    "train_set = torchvision.datasets.FashionMNIST(\n",
    "    root='./FashionMNIST',\n",
    "    download=DOWNLOAD,\n",
    "    train=True,\n",
    "    transform=transforms.ToTensor()\n",
    ")\n",
    "\n",
    "test_set = torchvision.datasets.FashionMNIST(\n",
    "    root='./FashionMNIST',\n",
    "    download=DOWNLOAD,\n",
    "    train=False,\n",
    "    transform=transforms.ToTensor()\n",
    ")\n"
   ]
  },
  {
   "cell_type": "code",
   "execution_count": 3,
   "metadata": {},
   "outputs": [],
   "source": [
    "train_loader = Data.DataLoader(train_set, BATCH_SIZE, shuffle=True, num_workers=4)\n",
    "test_loader = Data.DataLoader(test_set, BATCH_SIZE, shuffle=True, num_workers=4)"
   ]
  },
  {
   "cell_type": "code",
   "execution_count": 5,
   "metadata": {},
   "outputs": [
    {
     "name": "stdout",
     "output_type": "stream",
     "text": [
      "Sequential(\n",
      "  (0): FlattenLayer()\n",
      "  (1): Linear(in_features=784, out_features=256, bias=True)\n",
      "  (2): ReLU()\n",
      "  (3): Linear(in_features=256, out_features=10, bias=True)\n",
      ")\n"
     ]
    }
   ],
   "source": [
    "net = nn.Sequential(\n",
    "        d2l.FlattenLayer(),\n",
    "        nn.Linear(784, 256),\n",
    "        nn.ReLU(),\n",
    "        nn.Linear(256, 10),\n",
    ")\n",
    "print(net)"
   ]
  },
  {
   "cell_type": "code",
   "execution_count": 6,
   "metadata": {},
   "outputs": [],
   "source": [
    "init.normal_(net[1].weight, mean=0, std=0.01)\n",
    "init.constant_(net[1].bias, val=0)\n",
    "init.normal_(net[3].weight, mean=0, std=0.01)\n",
    "init.constant_(net[3].bias, val=0)\n",
    "\n",
    "loss_func = nn.CrossEntropyLoss()\n",
    "optimizer = torch.optim.SGD(net.parameters(), lr = 0.1)\n"
   ]
  },
  {
   "cell_type": "code",
   "execution_count": 7,
   "metadata": {},
   "outputs": [],
   "source": [
    "def evaluate_accuracy():\n",
    "    acc_test, sum_test = 0., 0\n",
    "    for x, y in test_loader:\n",
    "        x = Variable(x)\n",
    "        out = net(x)\n",
    "        out = F.softmax(out, dim=1)\n",
    "        acc_test += (out.argmax(dim=1) == y).float().sum().item()\n",
    "        sum_test += y.shape[0]\n",
    "\n",
    "    return acc_test, sum_test\n"
   ]
  },
  {
   "cell_type": "code",
   "execution_count": 8,
   "metadata": {},
   "outputs": [
    {
     "name": "stdout",
     "output_type": "stream",
     "text": [
      "epoch: 0 |train_loss: 0.0277 | train_acc: 0.7982 |test_acc: 0.8453\n",
      "epoch: 1 |train_loss: 0.0199 | train_acc: 0.8543 |test_acc: 0.8344\n",
      "epoch: 2 |train_loss: 0.0180 | train_acc: 0.8671 |test_acc: 0.8635\n",
      "epoch: 3 |train_loss: 0.0167 | train_acc: 0.8760 |test_acc: 0.8664\n",
      "epoch: 4 |train_loss: 0.0159 | train_acc: 0.8820 |test_acc: 0.8684\n"
     ]
    }
   ],
   "source": [
    "for epoch in range(EPOCH):\n",
    "    loss_train, acc_train, sum_train = 0., 0., 0\n",
    "    for step, (batch_x, batch_y) in enumerate(train_loader):\n",
    "        b_x = Variable(batch_x)\n",
    "        out = net(b_x)\n",
    "        loss = loss_func(out, batch_y)\n",
    "        #优化\n",
    "        optimizer.zero_grad()\n",
    "        loss.backward()\n",
    "        optimizer.step()\n",
    "\n",
    "        out = F.softmax(out, dim=1)\n",
    "        #计算准确率\n",
    "        acc_train += (out.argmax(dim=1) == batch_y).float().sum().item()\n",
    "        sum_train += batch_y.shape[0]\n",
    "        loss_train += loss.item()\n",
    "\n",
    "    acc_test, sum_test = evaluate_accuracy()\n",
    "\n",
    "    print('epoch:', epoch, '|train_loss: %.4f' % (loss_train / sum_train),\n",
    "          '| train_acc: %.4f' % (acc_train / sum_train), '|test_acc: %.4f' % (acc_test / sum_test))\n"
   ]
  },
  {
   "cell_type": "code",
   "execution_count": null,
   "metadata": {},
   "outputs": [],
   "source": []
  }
 ],
 "metadata": {
  "kernelspec": {
   "display_name": "Python 3",
   "language": "python",
   "name": "python3"
  },
  "language_info": {
   "codemirror_mode": {
    "name": "ipython",
    "version": 3
   },
   "file_extension": ".py",
   "mimetype": "text/x-python",
   "name": "python",
   "nbconvert_exporter": "python",
   "pygments_lexer": "ipython3",
   "version": "3.7.5"
  }
 },
 "nbformat": 4,
 "nbformat_minor": 2
}
