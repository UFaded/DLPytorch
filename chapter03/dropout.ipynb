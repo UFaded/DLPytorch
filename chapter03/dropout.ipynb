{
 "cells": [
  {
   "cell_type": "code",
   "execution_count": 1,
   "metadata": {},
   "outputs": [],
   "source": [
    "import torch\n",
    "import torch.nn as nn\n",
    "import numpy as np\n",
    "import sys\n",
    "import torchvision\n",
    "from torch.autograd import Variable\n",
    "import torchvision.transforms as transforms\n",
    "import torch.utils.data as Data\n",
    "sys.path.append(\"..\")\n",
    "import d2lzh_pytorch as d2l\n",
    "import torch.nn.functional as F"
   ]
  },
  {
   "cell_type": "code",
   "execution_count": 2,
   "metadata": {},
   "outputs": [],
   "source": [
    "num_epochs, BATCH_SIZE = 5, 256\n",
    "DOWNLOAD_MNIST = True"
   ]
  },
  {
   "cell_type": "code",
   "execution_count": 3,
   "metadata": {},
   "outputs": [],
   "source": [
    "train_data = torchvision.datasets.FashionMNIST(\n",
    "    root='./FashionMNIST',\n",
    "    download=DOWNLOAD_MNIST,\n",
    "    train=True,\n",
    "    transform=transforms.ToTensor()\n",
    ")\n",
    "\n",
    "test_data = torchvision.datasets.FashionMNIST(\n",
    "    root='./FashionMNIST',\n",
    "    train=False,\n",
    "    download=DOWNLOAD_MNIST,\n",
    "    transform=transforms.ToTensor()\n",
    ")\n",
    "\n",
    "train_loader = Data.DataLoader(\n",
    "    dataset=train_data,\n",
    "    batch_size=BATCH_SIZE,\n",
    "    shuffle=True,\n",
    "    num_workers=2\n",
    ")\n",
    "test_loader = Data.DataLoader(\n",
    "    dataset=train_data,\n",
    "    batch_size=BATCH_SIZE,\n",
    "    shuffle=True,\n",
    "    num_workers=2\n",
    ")\n"
   ]
  },
  {
   "cell_type": "code",
   "execution_count": 4,
   "metadata": {},
   "outputs": [],
   "source": [
    "net = nn.Sequential(\n",
    "    d2l.FlattenLayer(),\n",
    "    nn.Linear(28*28, 256),\n",
    "    nn.ReLU(),\n",
    "    nn.Dropout(0.2),\n",
    "    nn.Linear(256, 256),\n",
    "    nn.ReLU(),\n",
    "    nn.Dropout(0.5),\n",
    "    nn.Linear(256, 10)\n",
    ")"
   ]
  },
  {
   "cell_type": "code",
   "execution_count": 5,
   "metadata": {},
   "outputs": [],
   "source": [
    "for param in net.parameters():\n",
    "    nn.init.normal_(param, mean=0, std=0.01)\n",
    "\n",
    "def evaluate_accuracy():\n",
    "    net.eval() #关闭dropout\n",
    "    acc_test, sum_test = 0., 0\n",
    "    for x, y in test_loader:\n",
    "        x = Variable(x)\n",
    "        out = net(x)\n",
    "        out = F.softmax(out, dim=1)\n",
    "        acc_test += (out.argmax(dim=1) == y).float().sum().item()\n",
    "        sum_test += y.shape[0]\n",
    "    net.train() #重新开启训练模式\n",
    "    return acc_test, sum_test\n",
    "\n"
   ]
  },
  {
   "cell_type": "code",
   "execution_count": 6,
   "metadata": {},
   "outputs": [],
   "source": [
    "loss_func = nn.CrossEntropyLoss()\n",
    "optimizer = torch.optim.SGD(net.parameters(), lr=0.5)\n",
    "# d2l.train_ch3(net, train_iter, test_iter, loss, num_epochs, batch_size, None, None, optimizer)\n"
   ]
  },
  {
   "cell_type": "code",
   "execution_count": 7,
   "metadata": {},
   "outputs": [
    {
     "name": "stdout",
     "output_type": "stream",
     "text": [
      "epoch: 0 |train_loss: 0.0045 | train_acc: 0.5574 |test_acc: 0.7513\n",
      "epoch: 1 |train_loss: 0.0023 | train_acc: 0.7807 |test_acc: 0.7635\n",
      "epoch: 2 |train_loss: 0.0020 | train_acc: 0.8122 |test_acc: 0.7895\n",
      "epoch: 3 |train_loss: 0.0018 | train_acc: 0.8345 |test_acc: 0.8557\n",
      "epoch: 4 |train_loss: 0.0017 | train_acc: 0.8464 |test_acc: 0.8273\n"
     ]
    }
   ],
   "source": [
    "for epoch in range(num_epochs):\n",
    "    loss_train, acc_train, sum_train = 0., 0., 0\n",
    "    for step, (batch_x, batch_y) in enumerate(train_loader):\n",
    "        x = Variable(batch_x)\n",
    "        out = net(x)\n",
    "        loss = loss_func(out, batch_y)\n",
    "\n",
    "        optimizer.zero_grad()\n",
    "        loss.backward()\n",
    "        optimizer.step()\n",
    "\n",
    "        out = F.softmax(out, dim=1)\n",
    "        # 计算准确率\n",
    "        acc_train += (out.argmax(dim=1) == batch_y).float().sum().item()\n",
    "        sum_train += batch_y.shape[0]\n",
    "        loss_train += loss.item()\n",
    "\n",
    "    acc_test, sum_test = evaluate_accuracy()\n",
    "\n",
    "    print('epoch:', epoch, '|train_loss: %.4f' % (loss_train / sum_train),\n",
    "          '| train_acc: %.4f' % (acc_train / sum_train), '|test_acc: %.4f' % (acc_test / sum_test))\n"
   ]
  },
  {
   "cell_type": "code",
   "execution_count": null,
   "metadata": {},
   "outputs": [],
   "source": []
  }
 ],
 "metadata": {
  "kernelspec": {
   "display_name": "Python 3",
   "language": "python",
   "name": "python3"
  },
  "language_info": {
   "codemirror_mode": {
    "name": "ipython",
    "version": 3
   },
   "file_extension": ".py",
   "mimetype": "text/x-python",
   "name": "python",
   "nbconvert_exporter": "python",
   "pygments_lexer": "ipython3",
   "version": "3.7.5"
  }
 },
 "nbformat": 4,
 "nbformat_minor": 2
}
